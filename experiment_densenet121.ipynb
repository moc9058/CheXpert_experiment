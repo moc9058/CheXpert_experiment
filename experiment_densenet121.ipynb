{
 "cells": [
  {
   "cell_type": "markdown",
   "id": "a6ca5ec4-e8af-4bfb-8639-6f83570988a0",
   "metadata": {},
   "source": [
    "# Experiment"
   ]
  },
  {
   "cell_type": "markdown",
   "id": "ca510772-5b0a-4455-b8c5-4afad2588446",
   "metadata": {},
   "source": [
    "## Import"
   ]
  },
  {
   "cell_type": "code",
   "execution_count": 2,
   "id": "43b93d60-48c5-4034-a351-af2216950ddb",
   "metadata": {
    "tags": []
   },
   "outputs": [],
   "source": [
    "from LibAUC.libauc.losses import MultiLabelAUCMLoss,CrossEntropyLoss\n",
    "from LibAUC.libauc.optimizers import PESG,Adam\n",
    "from LibAUC.libauc.models import densenet121 as DenseNet121\n",
    "from LibAUC.libauc.datasets import CheXpert\n",
    "from LibAUC.libauc.metrics import auc_roc_score # for multi-task\n",
    "\n",
    "from PIL import Image\n",
    "import numpy as np\n",
    "import pandas as pd\n",
    "import torch \n",
    "import torchvision.transforms as transforms\n",
    "from torch.utils.data import Dataset\n",
    "import torch.nn.functional as F\n",
    "import os\n",
    "import cv2\n",
    "import shutil\n",
    "import warnings\n",
    "import re\n",
    "from sklearn.metrics import roc_curve, roc_auc_score\n",
    "import matplotlib.pyplot as plt"
   ]
  },
  {
   "cell_type": "code",
   "execution_count": 3,
   "id": "caa13b9f-cebe-4436-afed-6b3bca313600",
   "metadata": {
    "tags": []
   },
   "outputs": [],
   "source": [
    "def set_all_seeds(SEED):\n",
    "    # REPRODUCIBILITY\n",
    "    torch.manual_seed(SEED)\n",
    "    np.random.seed(SEED)\n",
    "    torch.backends.cudnn.deterministic = True\n",
    "    torch.backends.cudnn.benchmark = False\n",
    "warnings.simplefilter(action='ignore',category=FutureWarning) # Delete Future Warning"
   ]
  },
  {
   "cell_type": "code",
   "execution_count": 4,
   "id": "ce0ac644-953e-4bb7-8992-d84d48a889bb",
   "metadata": {
    "tags": []
   },
   "outputs": [
    {
     "name": "stdout",
     "output_type": "stream",
     "text": [
      "C:\\Users\\moc90\\Library\n"
     ]
    }
   ],
   "source": [
    "SEED = 123\n",
    "set_all_seeds(SEED)\n",
    "BATCH_SIZE = 32\n",
    "device = \"cuda\" if torch.cuda.is_available() else \"cpu\"\n",
    "print(os.getcwd())"
   ]
  },
  {
   "cell_type": "markdown",
   "id": "5d72b312-1963-4421-ac0a-507a8d6b1a52",
   "metadata": {},
   "source": [
    "## Model Load"
   ]
  },
  {
   "cell_type": "code",
   "execution_count": 5,
   "id": "a65f8347-0c59-4003-9301-1b5be2032151",
   "metadata": {},
   "outputs": [
    {
     "data": {
      "text/plain": [
       "<All keys matched successfully>"
      ]
     },
     "execution_count": 5,
     "metadata": {},
     "output_type": "execute_result"
    }
   ],
   "source": [
    "# model = DenseNet121(pretrained=False,last_activation=None,activations='relu',num_classes=5)\n",
    "origin_model = DenseNet121(pretrained=False,last_activation=None,activations='relu',num_classes=5)\n",
    "origin_model.load_state_dict(torch.load(os.path.join(os.getcwd(),'pth_files','origin_model_densenet121.pth')))\n",
    "male_model = DenseNet121(pretrained=False,last_activation=None,activations='relu',num_classes=5)\n",
    "male_model.load_state_dict(torch.load(os.path.join(os.getcwd(),'pth_files','male_model_densenet121.pth')))\n",
    "female_model = DenseNet121(pretrained=False,last_activation=None,activations='relu',num_classes=5)\n",
    "female_model.load_state_dict(torch.load(os.path.join(os.getcwd(),'pth_files','female_model_densenet121.pth')))\n",
    "before40_model = DenseNet121(pretrained=False,last_activation=None,activations='relu',num_classes=5)\n",
    "before40_model.load_state_dict(torch.load(os.path.join(os.getcwd(),'pth_files','before40_model_densenet121.pth')))\n",
    "after40_model = DenseNet121(pretrained=False,last_activation=None,activations='relu',num_classes=5)\n",
    "after40_model.load_state_dict(torch.load(os.path.join(os.getcwd(),'pth_files','after40_model_densenet121.pth')))"
   ]
  },
  {
   "cell_type": "markdown",
   "id": "1f0850b2-baf5-481e-a786-1fa4d1ed309a",
   "metadata": {
    "tags": []
   },
   "source": [
    "## Basic Experiment"
   ]
  },
  {
   "cell_type": "code",
   "execution_count": 5,
   "id": "1dc738b8-0b69-43ca-b506-e9b16fe571ac",
   "metadata": {
    "scrolled": true,
    "tags": []
   },
   "outputs": [
    {
     "name": "stdout",
     "output_type": "stream",
     "text": [
      "0.8349070361998129\n"
     ]
    }
   ],
   "source": [
    "files_lst = ['CheXpert_origin']\n",
    "models_lst = [origin_model]\n",
    "\n",
    "test_pred = []\n",
    "test_true = []\n",
    "for i in range(len(files_lst)):\n",
    "    file = files_lst[i]\n",
    "    model = models_lst[i]\n",
    "    model.to(device)\n",
    "    root = os.path.join(os.getcwd(),f'{file}\\\\')\n",
    "    test_set = CheXpert(csv_path=root+'test.csv',image_root_path=root,use_upsampling=False,use_frontal=True,image_size=224,mode='valid',class_index=-1,verbose=False)\n",
    "    test_loader = torch.utils.data.DataLoader(test_set,batch_size=BATCH_SIZE,num_workers=2,shuffle=False)\n",
    "    model.eval()\n",
    "    with torch.no_grad():\n",
    "        for jdx,data in enumerate(test_loader):\n",
    "            test_data,test_labels = data\n",
    "            test_data = test_data.cuda()\n",
    "            y_pred = model(test_data)\n",
    "            y_pred = torch.sigmoid(y_pred)\n",
    "            test_pred.append(y_pred.cpu().detach().numpy())\n",
    "            test_true.append(test_labels.numpy())\n",
    "\n",
    "test_true = np.concatenate(test_true)\n",
    "test_pred = np.concatenate(test_pred)\n",
    "val_auc_mean = np.mean(auc_roc_score(test_true,test_pred)) \n",
    "origin_test_true = test_true\n",
    "origin_test_pred = test_pred\n",
    "print(val_auc_mean)"
   ]
  },
  {
   "cell_type": "code",
   "execution_count": 6,
   "id": "9c0bddae-d5c8-4a14-9d56-ae265fb1632a",
   "metadata": {},
   "outputs": [
    {
     "name": "stdout",
     "output_type": "stream",
     "text": [
      "0.8309269805623127\n"
     ]
    }
   ],
   "source": [
    "files_lst = ['CheXpert_male','CheXpert_female']\n",
    "models_lst = [male_model,female_model]\n",
    "\n",
    "test_pred = []\n",
    "test_true = []\n",
    "for i in range(len(files_lst)):\n",
    "    file = files_lst[i]\n",
    "    model = models_lst[i]\n",
    "    model.to(device)\n",
    "    root = os.path.join(os.getcwd(),f'{file}\\\\')\n",
    "    test_set = CheXpert(csv_path=root+'test.csv',image_root_path=root,use_upsampling=False,use_frontal=True,image_size=224,mode='valid',class_index=-1,verbose=False)\n",
    "    test_loader = torch.utils.data.DataLoader(test_set,batch_size=BATCH_SIZE,num_workers=2,shuffle=False)\n",
    "    model.eval()\n",
    "    with torch.no_grad():\n",
    "        for jdx,data in enumerate(test_loader):\n",
    "            test_data,test_labels = data\n",
    "            test_data = test_data.cuda()\n",
    "            y_pred = model(test_data)\n",
    "            y_pred = torch.sigmoid(y_pred)\n",
    "            test_pred.append(y_pred.cpu().detach().numpy())\n",
    "            test_true.append(test_labels.numpy())\n",
    "\n",
    "test_true = np.concatenate(test_true)\n",
    "test_pred = np.concatenate(test_pred)\n",
    "val_auc_mean = np.mean(auc_roc_score(test_true,test_pred))\n",
    "sex_test_true = test_true\n",
    "sex_test_pred = test_pred\n",
    "print(val_auc_mean)"
   ]
  },
  {
   "cell_type": "code",
   "execution_count": 7,
   "id": "89258d45-2143-4c27-ae45-5931f348752c",
   "metadata": {
    "tags": []
   },
   "outputs": [
    {
     "name": "stdout",
     "output_type": "stream",
     "text": [
      "0.8272863585436536\n"
     ]
    }
   ],
   "source": [
    "files_lst = ['CheXpert_before40','CheXpert_after40']\n",
    "models_lst = [before40_model,after40_model]\n",
    "\n",
    "test_pred = []\n",
    "test_true = []\n",
    "for i in range(len(files_lst)):\n",
    "    file = files_lst[i]\n",
    "    model = models_lst[i]\n",
    "    model.to(device)\n",
    "    root = os.path.join(os.getcwd(),f'{file}\\\\')\n",
    "    test_set = CheXpert(csv_path=root+'test.csv',image_root_path=root,use_upsampling=False,use_frontal=True,image_size=224,mode='valid',class_index=-1,verbose=False)\n",
    "    test_loader = torch.utils.data.DataLoader(test_set,batch_size=BATCH_SIZE,num_workers=2,shuffle=False)\n",
    "    model.eval()\n",
    "    with torch.no_grad():\n",
    "        for jdx,data in enumerate(test_loader):\n",
    "            test_data,test_labels = data\n",
    "            test_data = test_data.cuda()\n",
    "            y_pred = model(test_data)\n",
    "            y_pred = torch.sigmoid(y_pred)\n",
    "            test_pred.append(y_pred.cpu().detach().numpy())\n",
    "            test_true.append(test_labels.numpy())\n",
    "\n",
    "test_true = np.concatenate(test_true)\n",
    "test_pred = np.concatenate(test_pred)\n",
    "val_auc_mean = np.mean(auc_roc_score(test_true,test_pred)) \n",
    "age_test_true = test_true\n",
    "age_test_pred = test_pred\n",
    "print(val_auc_mean)"
   ]
  },
  {
   "cell_type": "markdown",
   "id": "3ee64d9f-2936-4e95-bd0e-ee182aa91ce9",
   "metadata": {},
   "source": [
    "## Experiment per each symptom"
   ]
  },
  {
   "cell_type": "code",
   "execution_count": null,
   "id": "f1771659-39f4-46bc-9102-c97971b3276f",
   "metadata": {},
   "outputs": [],
   "source": [
    "origin_thres = np.zeros(origin_test_true.shape[1])\n",
    "sex_thres = np.zeros(origin_test_true.shape[1])\n",
    "age_thres = np.zeros(origin_test_true.shape[1])\n",
    "\n",
    "for j in range(origin_test_true.shape[1]):\n",
    "    fpr, tpr, thresholds = roc_curve(origin_test_true[:,j], origin_test_pred[:,j])\n",
    "    J = tpr-fpr\n",
    "    ix = np.argmax(J)\n",
    "    origin_thres[j] = thresholds[ix]\n",
    "\n",
    "    fpr, tpr, thresholds = roc_curve(sex_test_true[:,j], sex_test_pred[:,j])\n",
    "    J = tpr-fpr\n",
    "    ix = np.argmax(J)\n",
    "    sex_thres[j] = thresholds[ix]\n",
    "\n",
    "    fpr, tpr, thresholds = roc_curve(age_test_true[:,j], age_test_pred[:,j])\n",
    "    J = tpr-fpr\n",
    "    ix = np.argmax(J)\n",
    "    age_thres[j] = thresholds[ix]"
   ]
  },
  {
   "cell_type": "code",
   "execution_count": 9,
   "id": "e9e3e2f1-5315-4048-a388-a866ec92ce4c",
   "metadata": {
    "scrolled": true,
    "tags": []
   },
   "outputs": [
    {
     "name": "stdout",
     "output_type": "stream",
     "text": [
      "origin_model: 0\n",
      "origin_model: 1000\n",
      "origin_model: 1192\n"
     ]
    }
   ],
   "source": [
    "symptoms = ['Cardiomegaly','Edema','Consolidation','Atelectasis','Pleural Effusion']\n",
    "symptoms_matrix_pd = pd.DataFrame(data={'Cardiomegaly':[0,0,0,0],'Edema':[0,0,0,0],'Consolidation':[0,0,0,0],'Atelectasis':[0,0,0,0],'Pleural Effusion':[0,0,0,0]},index=['FN','FP','TN','TP'])\n",
    "\n",
    "# origin_model\n",
    "model = origin_model\n",
    "model.to(device)\n",
    "root = os.path.join(os.getcwd(),'CheXpert_origin\\\\')\n",
    "test_set = CheXpert(csv_path=root+'test.csv',image_root_path=root,use_upsampling=False,use_frontal=True,image_size=224,mode='valid',class_index=-1,verbose=False)\n",
    "test_loader = torch.utils.data.DataLoader(test_set,batch_size=BATCH_SIZE,num_workers=2,shuffle=False)\n",
    "model.eval()\n",
    "with torch.no_grad():\n",
    "    for jdx,data in enumerate(test_loader):\n",
    "        if jdx % 1000 == 0 or jdx == len(test_loader)-1:\n",
    "            print(f'origin_model: {jdx}')\n",
    "            symptoms_matrix_pd.to_csv(os.path.join(os.getcwd(),'matrix_files','origin_model_densenet121_matrix.csv'))\n",
    "        \n",
    "        test_data,test_labels = data\n",
    "        test_data = test_data.cuda()\n",
    "        y_pred = model(test_data)\n",
    "        y_pred = torch.sigmoid(y_pred).cpu().detach().numpy()\n",
    "        for i in range(test_labels.shape[0]):\n",
    "            for j in range(test_labels.shape[1]):\n",
    "                if test_labels[i][j] < 0.5: # Real Negative\n",
    "                    if y_pred[i][j] < origin_thres[j]: # Predict Negative\n",
    "                        symptoms_matrix_pd.at['TN',symptoms[j]] += 1\n",
    "                    else: # Predict Positive\n",
    "                        symptoms_matrix_pd.at['FP',symptoms[j]] += 1\n",
    "                else: # Real Positive\n",
    "                    if y_pred[i][j] < origin_thres[j]: # Predict Negative\n",
    "                        symptoms_matrix_pd.at['FN',symptoms[j]] += 1\n",
    "                    else: # Predict Positive\n",
    "                        symptoms_matrix_pd.at['TP',symptoms[j]] += 1\n",
    "            \n",
    "symptoms_matrix_pd.to_csv(os.path.join(os.getcwd(),'matrix_files','origin_model_densenet121_matrix.csv'))"
   ]
  },
  {
   "cell_type": "code",
   "execution_count": 10,
   "id": "fa2f34e0-4fc8-45ad-9a50-0d82d0386969",
   "metadata": {},
   "outputs": [
    {
     "name": "stdout",
     "output_type": "stream",
     "text": [
      "male_model: 0\n",
      "male_model: 698\n"
     ]
    }
   ],
   "source": [
    "symptoms = ['Cardiomegaly','Edema','Consolidation','Atelectasis','Pleural Effusion']\n",
    "symptoms_matrix_pd = pd.DataFrame(data={'Cardiomegaly':[0,0,0,0],'Edema':[0,0,0,0],'Consolidation':[0,0,0,0],'Atelectasis':[0,0,0,0],'Pleural Effusion':[0,0,0,0]},index=['FN','FP','TN','TP'])\n",
    "\n",
    "# male_model\n",
    "model = male_model\n",
    "model.to(device)\n",
    "root = os.path.join(os.getcwd(),'CheXpert_male\\\\')\n",
    "test_set = CheXpert(csv_path=root+'test.csv',image_root_path=root,use_upsampling=False,use_frontal=True,image_size=224,mode='valid',class_index=-1,verbose=False)\n",
    "test_loader = torch.utils.data.DataLoader(test_set,batch_size=BATCH_SIZE,num_workers=2,shuffle=False)\n",
    "model.eval()\n",
    "with torch.no_grad():\n",
    "    for jdx,data in enumerate(test_loader):\n",
    "        if jdx % 1000 == 0 or jdx == len(test_loader)-1:\n",
    "            print(f'male_model: {jdx}')\n",
    "            symptoms_matrix_pd.to_csv(os.path.join(os.getcwd(),'matrix_files','male_model_densenet121_matrix.csv'))\n",
    "        \n",
    "        test_data,test_labels = data\n",
    "        test_data = test_data.cuda()\n",
    "        y_pred = model(test_data)\n",
    "        y_pred = torch.sigmoid(y_pred).cpu().detach().numpy()\n",
    "        for i in range(test_labels.shape[0]):\n",
    "            for j in range(test_labels.shape[1]):\n",
    "                if test_labels[i][j] < 0.5: # Real Negative\n",
    "                    if y_pred[i][j] < sex_thres[j]: # Predict Negative\n",
    "                        symptoms_matrix_pd.at['TN',symptoms[j]] += 1\n",
    "                    else: # Predict Positive\n",
    "                        symptoms_matrix_pd.at['FP',symptoms[j]] += 1\n",
    "                else: # Real Positive\n",
    "                    if y_pred[i][j] < sex_thres[j]: # Predict Negative\n",
    "                        symptoms_matrix_pd.at['FN',symptoms[j]] += 1\n",
    "                    else: # Predict Positive\n",
    "                        symptoms_matrix_pd.at['TP',symptoms[j]] += 1\n",
    "            \n",
    "symptoms_matrix_pd.to_csv(os.path.join(os.getcwd(),'matrix_files','male_model_densenet121_matrix.csv'))"
   ]
  },
  {
   "cell_type": "code",
   "execution_count": 11,
   "id": "09f75244-a2bf-4e94-a826-bde4dfc979ee",
   "metadata": {},
   "outputs": [
    {
     "name": "stdout",
     "output_type": "stream",
     "text": [
      "female_model: 0\n",
      "female_model: 493\n"
     ]
    }
   ],
   "source": [
    "symptoms = ['Cardiomegaly','Edema','Consolidation','Atelectasis','Pleural Effusion']\n",
    "symptoms_matrix_pd = pd.DataFrame(data={'Cardiomegaly':[0,0,0,0],'Edema':[0,0,0,0],'Consolidation':[0,0,0,0],'Atelectasis':[0,0,0,0],'Pleural Effusion':[0,0,0,0]},index=['FN','FP','TN','TP'])\n",
    "\n",
    "# female_model\n",
    "model = female_model\n",
    "model.to(device)\n",
    "root = os.path.join(os.getcwd(),'CheXpert_female\\\\')\n",
    "test_set = CheXpert(csv_path=root+'test.csv',image_root_path=root,use_upsampling=False,use_frontal=True,image_size=224,mode='valid',class_index=-1,verbose=False)\n",
    "test_loader = torch.utils.data.DataLoader(test_set,batch_size=BATCH_SIZE,num_workers=2,shuffle=False)\n",
    "model.eval()\n",
    "with torch.no_grad():\n",
    "    for jdx,data in enumerate(test_loader):\n",
    "        if jdx % 1000 == 0 or jdx == len(test_loader)-1:\n",
    "            print(f'female_model: {jdx}')\n",
    "            symptoms_matrix_pd.to_csv(os.path.join(os.getcwd(),'matrix_files','female_model_densenet121_matrix.csv'))\n",
    "        \n",
    "        test_data,test_labels = data\n",
    "        test_data = test_data.cuda()\n",
    "        y_pred = model(test_data)\n",
    "        y_pred = torch.sigmoid(y_pred).cpu().detach().numpy()\n",
    "        for i in range(test_labels.shape[0]):\n",
    "            for j in range(test_labels.shape[1]):\n",
    "                if test_labels[i][j] < 0.5: # Real Negative\n",
    "                    if y_pred[i][j] < sex_thres[j]: # Predict Negative\n",
    "                        symptoms_matrix_pd.at['TN',symptoms[j]] += 1\n",
    "                    else: # Predict Positive\n",
    "                        symptoms_matrix_pd.at['FP',symptoms[j]] += 1\n",
    "                else: # Real Positive\n",
    "                    if y_pred[i][j] < sex_thres[j]: # Predict Negative\n",
    "                        symptoms_matrix_pd.at['FN',symptoms[j]] += 1\n",
    "                    else: # Predict Positive\n",
    "                        symptoms_matrix_pd.at['TP',symptoms[j]] += 1\n",
    "            \n",
    "symptoms_matrix_pd.to_csv(os.path.join(os.getcwd(),'matrix_files','female_model_densenet121_matrix.csv'))"
   ]
  },
  {
   "cell_type": "code",
   "execution_count": 12,
   "id": "f1fb452e-8e7a-4bbf-8a42-2c832a5d2828",
   "metadata": {},
   "outputs": [
    {
     "name": "stdout",
     "output_type": "stream",
     "text": [
      "before40_model: 0\n",
      "before40_model: 178\n"
     ]
    }
   ],
   "source": [
    "symptoms = ['Cardiomegaly','Edema','Consolidation','Atelectasis','Pleural Effusion']\n",
    "symptoms_matrix_pd = pd.DataFrame(data={'Cardiomegaly':[0,0,0,0],'Edema':[0,0,0,0],'Consolidation':[0,0,0,0],'Atelectasis':[0,0,0,0],'Pleural Effusion':[0,0,0,0]},index=['FN','FP','TN','TP'])\n",
    "\n",
    "# before40_model\n",
    "model = before40_model\n",
    "model.to(device)\n",
    "root = os.path.join(os.getcwd(),'CheXpert_before40\\\\')\n",
    "test_set = CheXpert(csv_path=root+'test.csv',image_root_path=root,use_upsampling=False,use_frontal=True,image_size=224,mode='valid',class_index=-1,verbose=False)\n",
    "test_loader = torch.utils.data.DataLoader(test_set,batch_size=BATCH_SIZE,num_workers=2,shuffle=False)\n",
    "model.eval()\n",
    "with torch.no_grad():\n",
    "    for jdx,data in enumerate(test_loader):\n",
    "        if jdx % 1000 == 0 or jdx == len(test_loader)-1:\n",
    "            print(f'before40_model: {jdx}')\n",
    "            symptoms_matrix_pd.to_csv(os.path.join(os.getcwd(),'matrix_files','before40_model_densenet121_matrix.csv'))\n",
    "        \n",
    "        test_data,test_labels = data\n",
    "        test_data = test_data.cuda()\n",
    "        y_pred = model(test_data)\n",
    "        y_pred = torch.sigmoid(y_pred).cpu().detach().numpy()\n",
    "        for i in range(test_labels.shape[0]):\n",
    "            for j in range(test_labels.shape[1]):\n",
    "                if test_labels[i][j] < 0.5: # Real Negative\n",
    "                    if y_pred[i][j] < age_thres[j]: # Predict Negative\n",
    "                        symptoms_matrix_pd.at['TN',symptoms[j]] += 1\n",
    "                    else: # Predict Positive\n",
    "                        symptoms_matrix_pd.at['FP',symptoms[j]] += 1\n",
    "                else: # Real Positive\n",
    "                    if y_pred[i][j] < age_thres[j]: # Predict Negative\n",
    "                        symptoms_matrix_pd.at['FN',symptoms[j]] += 1\n",
    "                    else: # Predict Positive\n",
    "                        symptoms_matrix_pd.at['TP',symptoms[j]] += 1\n",
    "            \n",
    "symptoms_matrix_pd.to_csv(os.path.join(os.getcwd(),'matrix_files','before40_model_densenet121_matrix.csv'))"
   ]
  },
  {
   "cell_type": "code",
   "execution_count": 13,
   "id": "636db7d4-1eeb-44c6-b1af-8fd66504c540",
   "metadata": {},
   "outputs": [
    {
     "name": "stdout",
     "output_type": "stream",
     "text": [
      "after40_model: 0\n",
      "after40_model: 1000\n",
      "after40_model: 1013\n"
     ]
    }
   ],
   "source": [
    "symptoms = ['Cardiomegaly','Edema','Consolidation','Atelectasis','Pleural Effusion']\n",
    "symptoms_matrix_pd = pd.DataFrame(data={'Cardiomegaly':[0,0,0,0],'Edema':[0,0,0,0],'Consolidation':[0,0,0,0],'Atelectasis':[0,0,0,0],'Pleural Effusion':[0,0,0,0]},index=['FN','FP','TN','TP'])\n",
    "\n",
    "# after40_model\n",
    "model = after40_model\n",
    "model.to(device)\n",
    "root = os.path.join(os.getcwd(),'CheXpert_after40\\\\')\n",
    "test_set = CheXpert(csv_path=root+'test.csv',image_root_path=root,use_upsampling=False,use_frontal=True,image_size=224,mode='valid',class_index=-1,verbose=False)\n",
    "test_loader = torch.utils.data.DataLoader(test_set,batch_size=BATCH_SIZE,num_workers=2,shuffle=False)\n",
    "model.eval()\n",
    "with torch.no_grad():\n",
    "    for jdx,data in enumerate(test_loader):\n",
    "        if jdx % 1000 == 0 or jdx == len(test_loader)-1:\n",
    "            print(f'after40_model: {jdx}')\n",
    "            symptoms_matrix_pd.to_csv(os.path.join(os.getcwd(),'matrix_files','after40_model_densenet121_matrix.csv'))\n",
    "        \n",
    "        test_data,test_labels = data\n",
    "        test_data = test_data.cuda()\n",
    "        y_pred = model(test_data)\n",
    "        y_pred = torch.sigmoid(y_pred).cpu().detach().numpy()\n",
    "        for i in range(test_labels.shape[0]):\n",
    "            for j in range(test_labels.shape[1]):\n",
    "                if test_labels[i][j] < 0.5: # Real Negative\n",
    "                    if y_pred[i][j] < age_thres[j]: # Predict Negative\n",
    "                        symptoms_matrix_pd.at['TN',symptoms[j]] += 1\n",
    "                    else: # Predict Positive\n",
    "                        symptoms_matrix_pd.at['FP',symptoms[j]] += 1\n",
    "                else: # Real Positive\n",
    "                    if y_pred[i][j] < age_thres[j]: # Predict Negative\n",
    "                        symptoms_matrix_pd.at['FN',symptoms[j]] += 1\n",
    "                    else: # Predict Positive\n",
    "                        symptoms_matrix_pd.at['TP',symptoms[j]] += 1\n",
    "            \n",
    "symptoms_matrix_pd.to_csv(os.path.join(os.getcwd(),'matrix_files','after40_model_densenet121_matrix.csv'))"
   ]
  }
 ],
 "metadata": {
  "kernelspec": {
   "display_name": "Python 3 (ipykernel)",
   "language": "python",
   "name": "python3"
  },
  "language_info": {
   "codemirror_mode": {
    "name": "ipython",
    "version": 3
   },
   "file_extension": ".py",
   "mimetype": "text/x-python",
   "name": "python",
   "nbconvert_exporter": "python",
   "pygments_lexer": "ipython3",
   "version": "3.11.5"
  }
 },
 "nbformat": 4,
 "nbformat_minor": 5
}
