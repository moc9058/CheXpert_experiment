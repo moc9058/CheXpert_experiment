{
 "cells": [
  {
   "cell_type": "markdown",
   "metadata": {},
   "source": [
    "# Import"
   ]
  },
  {
   "cell_type": "code",
   "execution_count": 1,
   "metadata": {
    "tags": []
   },
   "outputs": [],
   "source": [
    "from LibAUC.libauc.losses import MultiLabelAUCMLoss,CrossEntropyLoss\n",
    "from LibAUC.libauc.optimizers import PESG,Adam\n",
    "from LibAUC.libauc.models import densenet121 as DenseNet121\n",
    "from LibAUC.libauc.datasets import CheXpert\n",
    "from LibAUC.libauc.metrics import auc_roc_score # for multi-task\n",
    "\n",
    "from PIL import Image\n",
    "import numpy as np\n",
    "import pandas as pd\n",
    "import torch \n",
    "import torchvision.transforms as transforms\n",
    "from torch.utils.data import Dataset\n",
    "import torch.nn.functional as F\n",
    "import os\n",
    "import cv2\n",
    "import shutil\n",
    "import warnings\n",
    "from datetime import datetime\n",
    "from datetime import timedelta"
   ]
  },
  {
   "cell_type": "code",
   "execution_count": 2,
   "metadata": {
    "tags": []
   },
   "outputs": [],
   "source": [
    "def set_all_seeds(SEED):\n",
    "    # REPRODUCIBILITY\n",
    "    torch.manual_seed(SEED)\n",
    "    np.random.seed(SEED)\n",
    "    torch.backends.cudnn.deterministic = True\n",
    "    torch.backends.cudnn.benchmark = False\n",
    "warnings.simplefilter(action='ignore',category=FutureWarning) # Delete Future Warning"
   ]
  },
  {
   "cell_type": "code",
   "execution_count": 3,
   "metadata": {
    "tags": []
   },
   "outputs": [],
   "source": [
    "# paramaters\n",
    "SEED = 123\n",
    "BATCH_SIZE = 32\n",
    "lr = 0.1\n",
    "epoch_decay = 2e-3\n",
    "weight_decay = 1e-5\n",
    "margin = 1.0\n",
    "total_epochs = 6\n",
    "os.makedirs(os.path.join(os.getcwd(),'pth_files'),exist_ok=True)"
   ]
  },
  {
   "cell_type": "code",
   "execution_count": 4,
   "metadata": {
    "tags": []
   },
   "outputs": [
    {
     "name": "stdout",
     "output_type": "stream",
     "text": [
      "2.1.1+cu118\n"
     ]
    }
   ],
   "source": [
    "print(torch.__version__)"
   ]
  },
  {
   "cell_type": "markdown",
   "metadata": {},
   "source": [
    "# Origin"
   ]
  },
  {
   "cell_type": "code",
   "execution_count": 5,
   "metadata": {
    "scrolled": true,
    "tags": []
   },
   "outputs": [
    {
     "name": "stdout",
     "output_type": "stream",
     "text": [
      "Multi-label mode: True, Number of classes: [5]\n",
      "------------------------------\n",
      "Found 133781 images in total, 16297 positive images, 117484 negative images\n",
      "Cardiomegaly(C0): imbalance ratio is 0.1218\n",
      "\n",
      "Found 133781 images in total, 42794 positive images, 90987 negative images\n",
      "Edema(C1): imbalance ratio is 0.3199\n",
      "\n",
      "Found 133781 images in total, 9055 positive images, 124726 negative images\n",
      "Consolidation(C2): imbalance ratio is 0.0677\n",
      "\n",
      "Found 133781 images in total, 41919 positive images, 91862 negative images\n",
      "Atelectasis(C3): imbalance ratio is 0.3133\n",
      "\n",
      "Found 133781 images in total, 53675 positive images, 80106 negative images\n",
      "Pleural Effusion(C4): imbalance ratio is 0.4012\n",
      "\n",
      "Multi-label mode: True, Number of classes: [5]\n",
      "------------------------------\n",
      "Found 19090 images in total, 2242 positive images, 16848 negative images\n",
      "Cardiomegaly(C0): imbalance ratio is 0.1174\n",
      "\n",
      "Found 19090 images in total, 6161 positive images, 12929 negative images\n",
      "Edema(C1): imbalance ratio is 0.3227\n",
      "\n",
      "Found 19090 images in total, 1346 positive images, 17744 negative images\n",
      "Consolidation(C2): imbalance ratio is 0.0705\n",
      "\n",
      "Found 19090 images in total, 5843 positive images, 13247 negative images\n",
      "Atelectasis(C3): imbalance ratio is 0.3061\n",
      "\n",
      "Found 19090 images in total, 7762 positive images, 11328 negative images\n",
      "Pleural Effusion(C4): imbalance ratio is 0.4066\n",
      "\n"
     ]
    }
   ],
   "source": [
    "root = os.path.join(os.getcwd(),'CheXpert_origin\\\\')\n",
    "# Index=-1 denotes multi-label with 5 diseases\n",
    "trainSet = CheXpert(csv_path=root+'train.csv',image_root_path=root,use_upsampling=False,use_frontal=True,image_size=224,mode='train',class_index=-1,verbose=True)\n",
    "testSet =  CheXpert(csv_path=root+'valid.csv',image_root_path=root,use_upsampling=False,use_frontal=True,image_size=224,mode='valid',class_index=-1,verbose=True)\n",
    "trainloader =  torch.utils.data.DataLoader(trainSet,batch_size=BATCH_SIZE,num_workers=2,shuffle=True)\n",
    "testloader =  torch.utils.data.DataLoader(testSet,batch_size=BATCH_SIZE,num_workers=2,shuffle=False)\n",
    "\n",
    "# model\n",
    "set_all_seeds(SEED)\n",
    "model = DenseNet121(pretrained=True,last_activation=None,activations='relu',num_classes=5)\n",
    "model = model.cuda()\n",
    "\n",
    "# define loss & optimizer\n",
    "loss_fn = MultiLabelAUCMLoss(num_labels=5)\n",
    "optimizer = PESG(model.parameters(),\n",
    "                 loss_fn=loss_fn,\n",
    "                 lr=lr,\n",
    "                 margin=margin,\n",
    "                 epoch_decay=epoch_decay,\n",
    "                 weight_decay=weight_decay)"
   ]
  },
  {
   "cell_type": "code",
   "execution_count": 6,
   "metadata": {
    "scrolled": true,
    "tags": []
   },
   "outputs": [
    {
     "name": "stdout",
     "output_type": "stream",
     "text": [
      "Start Training\n",
      "------------------------------\n"
     ]
    },
    {
     "ename": "KeyboardInterrupt",
     "evalue": "",
     "output_type": "error",
     "traceback": [
      "\u001b[1;31m---------------------------------------------------------------------------\u001b[0m",
      "\u001b[1;31mKeyboardInterrupt\u001b[0m                         Traceback (most recent call last)",
      "Cell \u001b[1;32mIn[6], line 32\u001b[0m\n\u001b[0;32m     30\u001b[0m     y_pred \u001b[38;5;241m=\u001b[39m model(test_data)\n\u001b[0;32m     31\u001b[0m     y_pred \u001b[38;5;241m=\u001b[39m torch\u001b[38;5;241m.\u001b[39msigmoid(y_pred)\n\u001b[1;32m---> 32\u001b[0m     test_pred\u001b[38;5;241m.\u001b[39mappend(y_pred\u001b[38;5;241m.\u001b[39mcpu()\u001b[38;5;241m.\u001b[39mdetach()\u001b[38;5;241m.\u001b[39mnumpy())\n\u001b[0;32m     33\u001b[0m     test_true\u001b[38;5;241m.\u001b[39mappend(test_labels\u001b[38;5;241m.\u001b[39mnumpy())\n\u001b[0;32m     35\u001b[0m test_true \u001b[38;5;241m=\u001b[39m np\u001b[38;5;241m.\u001b[39mconcatenate(test_true)\n",
      "\u001b[1;31mKeyboardInterrupt\u001b[0m: "
     ]
    }
   ],
   "source": [
    "# training\n",
    "print ('Start Training')\n",
    "print ('-'*30)\n",
    "begin_time = datetime.now()\n",
    "\n",
    "best_val_auc = 0 \n",
    "for epoch in range(total_epochs):\n",
    "    if epoch > 0:\n",
    "        optimizer.update_regularizer(decay_factor=10)    \n",
    "\n",
    "    for idx,data in enumerate(trainloader):\n",
    "        train_data,train_labels = data\n",
    "        train_data,train_labels = train_data.cuda(),train_labels.cuda()\n",
    "        y_pred = model(train_data)\n",
    "        y_pred = torch.sigmoid(y_pred)\n",
    "        loss = loss_fn(y_pred,train_labels)\n",
    "        optimizer.zero_grad()\n",
    "        loss.backward()\n",
    "        optimizer.step()\n",
    "            \n",
    "        # validation  \n",
    "        if idx % 400 == 0 or idx == len(trainloader)-1:\n",
    "            model.eval()\n",
    "            with torch.no_grad():\n",
    "                test_pred = []\n",
    "                test_true = [] \n",
    "                for jdx,data in enumerate(testloader):\n",
    "                    test_data,test_labels = data\n",
    "                    test_data = test_data.cuda()\n",
    "                    y_pred = model(test_data)\n",
    "                    y_pred = torch.sigmoid(y_pred)\n",
    "                    test_pred.append(y_pred.cpu().detach().numpy())\n",
    "                    test_true.append(test_labels.numpy())\n",
    "            \n",
    "                test_true = np.concatenate(test_true)\n",
    "                test_pred = np.concatenate(test_pred)\n",
    "                val_auc_mean = np.mean(auc_roc_score(test_true,test_pred)) \n",
    "                model.train()\n",
    "                \n",
    "                if best_val_auc < val_auc_mean:\n",
    "                    best_val_auc = val_auc_mean\n",
    "                    # torch.save(model.state_dict(),os.path.join(os.getcwd(),'pth_files','origin_model.pth'))\n",
    "                    torch.save(model.state_dict(),os.path.join(os.getcwd(),'pth_files','origin_model_densenet121.pth'))\n",
    "                after_time = datetime.now()\n",
    "                time_gap = after_time-begin_time\n",
    "                time_gap = time_gap.total_seconds()\n",
    "                hours,remainders = divmod(time_gap,3600)\n",
    "                minutes,seconds = divmod(remainders,60)\n",
    "                hours = int(hours)\n",
    "                minutes = int(minutes)\n",
    "                seconds = int(seconds)\n",
    "                print(f'({hours:02d}:{minutes:02d}:{seconds:02d})Epoch={epoch},BatchID={idx},Val_AUC={val_auc_mean:.4f},Best_Val_AUC={best_val_auc:.4f}')"
   ]
  },
  {
   "cell_type": "markdown",
   "metadata": {},
   "source": [
    "# Male"
   ]
  },
  {
   "cell_type": "code",
   "execution_count": null,
   "metadata": {},
   "outputs": [],
   "source": [
    "root = os.path.join(os.getcwd(),'CheXpert_male\\\\')\n",
    "# Index=-1 denotes multi-label with 5 diseases\n",
    "trainSet = CheXpert(csv_path=root+'train.csv',image_root_path=root,use_upsampling=False,use_frontal=True,image_size=224,mode='train',class_index=-1,verbose=True)\n",
    "testSet =  CheXpert(csv_path=root+'valid.csv',image_root_path=root,use_upsampling=False,use_frontal=True,image_size=224,mode='valid',class_index=-1,verbose=True)\n",
    "trainloader =  torch.utils.data.DataLoader(trainSet,batch_size=BATCH_SIZE,num_workers=2,shuffle=True)\n",
    "testloader =  torch.utils.data.DataLoader(testSet,batch_size=BATCH_SIZE,num_workers=2,shuffle=False)\n",
    "\n",
    "# model\n",
    "set_all_seeds(SEED)\n",
    "model = DenseNet121(pretrained=True,last_activation=None,activations='relu',num_classes=5)\n",
    "model = model.cuda()\n",
    "\n",
    "# define loss & optimizer\n",
    "loss_fn = MultiLabelAUCMLoss(num_labels=5)\n",
    "optimizer = PESG(model.parameters(),\n",
    "                 loss_fn=loss_fn,\n",
    "                 lr=lr,\n",
    "                 margin=margin,\n",
    "                 epoch_decay=epoch_decay,\n",
    "                 weight_decay=weight_decay)"
   ]
  },
  {
   "cell_type": "code",
   "execution_count": null,
   "metadata": {
    "scrolled": true
   },
   "outputs": [],
   "source": [
    "# training\n",
    "print ('Start Training')\n",
    "print ('-'*30)\n",
    "begin_time = datetime.now()\n",
    "\n",
    "best_val_auc = 0 \n",
    "for epoch in range(total_epochs):\n",
    "    if epoch > 0:\n",
    "        optimizer.update_regularizer(decay_factor=10)    \n",
    "\n",
    "    for idx,data in enumerate(trainloader):\n",
    "        train_data,train_labels = data\n",
    "        train_data,train_labels  = train_data.cuda(),train_labels.cuda()\n",
    "        y_pred = model(train_data)\n",
    "        y_pred = torch.sigmoid(y_pred)\n",
    "        loss = loss_fn(y_pred,train_labels)\n",
    "        optimizer.zero_grad()\n",
    "        loss.backward()\n",
    "        optimizer.step()\n",
    "            \n",
    "        # validation  \n",
    "        if idx % 400 == 0 or idx == len(trainloader)-1:\n",
    "            model.eval()\n",
    "            with torch.no_grad():    \n",
    "                test_pred = []\n",
    "                test_true = [] \n",
    "                for jdx,data in enumerate(testloader):\n",
    "                    test_data,test_labels = data\n",
    "                    test_data = test_data.cuda()\n",
    "                    y_pred = model(test_data)\n",
    "                    y_pred = torch.sigmoid(y_pred)\n",
    "                    test_pred.append(y_pred.cpu().detach().numpy())\n",
    "                    test_true.append(test_labels.numpy())\n",
    "            \n",
    "                test_true = np.concatenate(test_true)\n",
    "                test_pred = np.concatenate(test_pred)\n",
    "                val_auc_mean = np.mean(auc_roc_score(test_true,test_pred)) \n",
    "                model.train()\n",
    "\n",
    "                if best_val_auc < val_auc_mean:\n",
    "                    best_val_auc = val_auc_mean\n",
    "                    # torch.save(model.state_dict(),os.path.join(os.getcwd(),'pth_files','male_model.pth'))\n",
    "                    torch.save(model.state_dict(),os.path.join(os.getcwd(),'pth_files','male_model_densenet121.pth'))\n",
    "                after_time = datetime.now()\n",
    "                time_gap = after_time-begin_time\n",
    "                time_gap = time_gap.total_seconds()\n",
    "                hours,remainders = divmod(time_gap,3600)\n",
    "                minutes,seconds = divmod(remainders,60)\n",
    "                hours = int(hours)\n",
    "                minutes = int(minutes)\n",
    "                seconds = int(seconds)\n",
    "                print(f'({hours:02d}:{minutes:02d}:{seconds:02d})Epoch={epoch},BatchID={idx},Val_AUC={val_auc_mean:.4f},Best_Val_AUC={best_val_auc:.4f}')"
   ]
  },
  {
   "cell_type": "markdown",
   "metadata": {},
   "source": [
    "# Female"
   ]
  },
  {
   "cell_type": "code",
   "execution_count": null,
   "metadata": {},
   "outputs": [],
   "source": [
    "root = os.path.join(os.getcwd(),'CheXpert_female\\\\')\n",
    "# Index=-1 denotes multi-label with 5 diseases\n",
    "trainSet = CheXpert(csv_path=root+'train.csv',image_root_path=root,use_upsampling=False,use_frontal=True,image_size=224,mode='train',class_index=-1,verbose=True)\n",
    "testSet =  CheXpert(csv_path=root+'valid.csv',image_root_path=root,use_upsampling=False,use_frontal=True,image_size=224,mode='valid',class_index=-1,verbose=True)\n",
    "trainloader =  torch.utils.data.DataLoader(trainSet,batch_size=BATCH_SIZE,num_workers=2,shuffle=True)\n",
    "testloader =  torch.utils.data.DataLoader(testSet,batch_size=BATCH_SIZE,num_workers=2,shuffle=False)\n",
    "\n",
    "# model\n",
    "set_all_seeds(SEED)\n",
    "model = DenseNet121(pretrained=True,last_activation=None,activations='relu',num_classes=5)\n",
    "model = model.cuda()\n",
    "\n",
    "# define loss & optimizer\n",
    "loss_fn = MultiLabelAUCMLoss(num_labels=5)\n",
    "optimizer = PESG(model.parameters(),\n",
    "                 loss_fn=loss_fn,\n",
    "                 lr=lr,\n",
    "                 margin=margin,\n",
    "                 epoch_decay=epoch_decay,\n",
    "                 weight_decay=weight_decay)"
   ]
  },
  {
   "cell_type": "code",
   "execution_count": null,
   "metadata": {},
   "outputs": [],
   "source": [
    "# training\n",
    "print ('Start Training')\n",
    "print ('-'*30)\n",
    "begin_time = datetime.now()\n",
    "\n",
    "best_val_auc = 0 \n",
    "for epoch in range(total_epochs):\n",
    "    if epoch > 0:\n",
    "        optimizer.update_regularizer(decay_factor=10)    \n",
    "\n",
    "    for idx,data in enumerate(trainloader):\n",
    "        train_data,train_labels = data\n",
    "        train_data,train_labels  = train_data.cuda(),train_labels.cuda()\n",
    "        y_pred = model(train_data)\n",
    "        y_pred = torch.sigmoid(y_pred)\n",
    "        loss = loss_fn(y_pred,train_labels)\n",
    "        optimizer.zero_grad()\n",
    "        loss.backward()\n",
    "        optimizer.step()\n",
    "            \n",
    "        # validation  \n",
    "        if idx % 400 == 0 or idx == len(trainloader)-1:\n",
    "            model.eval()\n",
    "            with torch.no_grad():    \n",
    "                test_pred = []\n",
    "                test_true = [] \n",
    "                for jdx,data in enumerate(testloader):\n",
    "                    test_data,test_labels = data\n",
    "                    test_data = test_data.cuda()\n",
    "                    y_pred = model(test_data)\n",
    "                    y_pred = torch.sigmoid(y_pred)\n",
    "                    test_pred.append(y_pred.cpu().detach().numpy())\n",
    "                    test_true.append(test_labels.numpy())\n",
    "            \n",
    "                test_true = np.concatenate(test_true)\n",
    "                test_pred = np.concatenate(test_pred)\n",
    "                val_auc_mean = np.mean(auc_roc_score(test_true,test_pred)) \n",
    "                model.train()\n",
    "\n",
    "                if best_val_auc < val_auc_mean:\n",
    "                    best_val_auc = val_auc_mean\n",
    "                    # torch.save(model.state_dict(),os.path.join(os.getcwd(),'pth_files','female_model.pth'))\n",
    "                    torch.save(model.state_dict(),os.path.join(os.getcwd(),'pth_files','female_model_densenet121.pth'))\n",
    "                after_time = datetime.now()\n",
    "                time_gap = after_time-begin_time\n",
    "                time_gap = time_gap.total_seconds()\n",
    "                hours,remainders = divmod(time_gap,3600)\n",
    "                minutes,seconds = divmod(remainders,60)\n",
    "                hours = int(hours)\n",
    "                minutes = int(minutes)\n",
    "                seconds = int(seconds)\n",
    "                print(f'({hours:02d}:{minutes:02d}:{seconds:02d})Epoch={epoch},BatchID={idx},Val_AUC={val_auc_mean:.4f},Best_Val_AUC={best_val_auc:.4f}')"
   ]
  },
  {
   "cell_type": "markdown",
   "metadata": {},
   "source": [
    "# before40"
   ]
  },
  {
   "cell_type": "code",
   "execution_count": null,
   "metadata": {},
   "outputs": [],
   "source": [
    "root = os.path.join(os.getcwd(),'CheXpert_before40\\\\')\n",
    "# Index=-1 denotes multi-label with 5 diseases\n",
    "trainSet = CheXpert(csv_path=root+'train.csv',image_root_path=root,use_upsampling=False,use_frontal=True,image_size=224,mode='train',class_index=-1,verbose=True)\n",
    "testSet =  CheXpert(csv_path=root+'valid.csv',image_root_path=root,use_upsampling=False,use_frontal=True,image_size=224,mode='valid',class_index=-1,verbose=True)\n",
    "trainloader =  torch.utils.data.DataLoader(trainSet,batch_size=BATCH_SIZE,num_workers=2,shuffle=True)\n",
    "testloader =  torch.utils.data.DataLoader(testSet,batch_size=BATCH_SIZE,num_workers=2,shuffle=False)\n",
    "\n",
    "# model\n",
    "set_all_seeds(SEED)\n",
    "model = DenseNet121(pretrained=True,last_activation=None,activations='relu',num_classes=5)\n",
    "model = model.cuda()\n",
    "\n",
    "# define loss & optimizer\n",
    "loss_fn = MultiLabelAUCMLoss(num_labels=5)\n",
    "optimizer = PESG(model.parameters(),\n",
    "                 loss_fn=loss_fn,\n",
    "                 lr=lr,\n",
    "                 margin=margin,\n",
    "                 epoch_decay=epoch_decay,\n",
    "                 weight_decay=weight_decay)"
   ]
  },
  {
   "cell_type": "code",
   "execution_count": null,
   "metadata": {
    "scrolled": true,
    "tags": []
   },
   "outputs": [],
   "source": [
    "# training\n",
    "print ('Start Training')\n",
    "print ('-'*30)\n",
    "begin_time = datetime.now()\n",
    "\n",
    "best_val_auc = 0 \n",
    "for epoch in range(total_epochs):\n",
    "    if epoch > 0:\n",
    "        optimizer.update_regularizer(decay_factor=10)    \n",
    "\n",
    "    for idx,data in enumerate(trainloader):\n",
    "        train_data,train_labels = data\n",
    "        train_data,train_labels  = train_data.cuda(),train_labels.cuda()\n",
    "        y_pred = model(train_data)\n",
    "        y_pred = torch.sigmoid(y_pred)\n",
    "        loss = loss_fn(y_pred,train_labels)\n",
    "        optimizer.zero_grad()\n",
    "        loss.backward()\n",
    "        optimizer.step()\n",
    "            \n",
    "        # validation  \n",
    "        if idx % 400 == 0 or idx == len(trainloader)-1:\n",
    "            model.eval()\n",
    "            with torch.no_grad():    \n",
    "                test_pred = []\n",
    "                test_true = [] \n",
    "                for jdx,data in enumerate(testloader):\n",
    "                    test_data,test_labels = data\n",
    "                    test_data = test_data.cuda()\n",
    "                    y_pred = model(test_data)\n",
    "                    y_pred = torch.sigmoid(y_pred)\n",
    "                    test_pred.append(y_pred.cpu().detach().numpy())\n",
    "                    test_true.append(test_labels.numpy())\n",
    "            \n",
    "                test_true = np.concatenate(test_true)\n",
    "                test_pred = np.concatenate(test_pred)\n",
    "                val_auc_mean = np.mean(auc_roc_score(test_true,test_pred)) \n",
    "                model.train()\n",
    "\n",
    "                if best_val_auc < val_auc_mean:\n",
    "                    best_val_auc = val_auc_mean\n",
    "                    # torch.save(model.state_dict(),os.path.join(os.getcwd(),'pth_files','before40_model.pth'))\n",
    "                    torch.save(model.state_dict(),os.path.join(os.getcwd(),'pth_files','before40_model_densenet121.pth'))\n",
    "                after_time = datetime.now()\n",
    "                time_gap = after_time-begin_time\n",
    "                time_gap = time_gap.total_seconds()\n",
    "                hours,remainders = divmod(time_gap,3600)\n",
    "                minutes,seconds = divmod(remainders,60)\n",
    "                hours = int(hours)\n",
    "                minutes = int(minutes)\n",
    "                seconds = int(seconds)\n",
    "                print(f'({hours:02d}:{minutes:02d}:{seconds:02d})Epoch={epoch},BatchID={idx},Val_AUC={val_auc_mean:.4f},Best_Val_AUC={best_val_auc:.4f}')"
   ]
  },
  {
   "cell_type": "markdown",
   "metadata": {},
   "source": [
    "# after40"
   ]
  },
  {
   "cell_type": "code",
   "execution_count": null,
   "metadata": {},
   "outputs": [],
   "source": [
    "root = os.path.join(os.getcwd(),'CheXpert_after40\\\\')\n",
    "# Index=-1 denotes multi-label with 5 diseases\n",
    "trainSet = CheXpert(csv_path=root+'train.csv',image_root_path=root,use_upsampling=False,use_frontal=True,image_size=224,mode='train',class_index=-1,verbose=True)\n",
    "testSet =  CheXpert(csv_path=root+'valid.csv',image_root_path=root,use_upsampling=False,use_frontal=True,image_size=224,mode='valid',class_index=-1,verbose=True)\n",
    "trainloader =  torch.utils.data.DataLoader(trainSet,batch_size=BATCH_SIZE,num_workers=2,shuffle=True)\n",
    "testloader =  torch.utils.data.DataLoader(testSet,batch_size=BATCH_SIZE,num_workers=2,shuffle=False)\n",
    "\n",
    "# model\n",
    "set_all_seeds(SEED)\n",
    "model = DenseNet121(pretrained=True,last_activation=None,activations='relu',num_classes=5)\n",
    "model = model.cuda()\n",
    "\n",
    "# define loss & optimizer\n",
    "loss_fn = MultiLabelAUCMLoss(num_labels=5)\n",
    "optimizer = PESG(model.parameters(),\n",
    "                 loss_fn=loss_fn,\n",
    "                 lr=lr,\n",
    "                 margin=margin,\n",
    "                 epoch_decay=epoch_decay,\n",
    "                 weight_decay=weight_decay)\n"
   ]
  },
  {
   "cell_type": "code",
   "execution_count": null,
   "metadata": {
    "scrolled": true,
    "tags": []
   },
   "outputs": [],
   "source": [
    "# training\n",
    "print ('Start Training')\n",
    "print ('-'*30)\n",
    "begin_time = datetime.now()\n",
    "\n",
    "best_val_auc = 0 \n",
    "for epoch in range(total_epochs):\n",
    "    if epoch > 0:\n",
    "        optimizer.update_regularizer(decay_factor=10)    \n",
    "\n",
    "    for idx,data in enumerate(trainloader):\n",
    "        train_data,train_labels = data\n",
    "        train_data,train_labels  = train_data.cuda(),train_labels.cuda()\n",
    "        y_pred = model(train_data)\n",
    "        y_pred = torch.sigmoid(y_pred)\n",
    "        loss = loss_fn(y_pred,train_labels)\n",
    "        optimizer.zero_grad()\n",
    "        loss.backward()\n",
    "        optimizer.step()\n",
    "            \n",
    "        # validation  \n",
    "        if idx % 400 == 0 or idx == len(trainloader)-1:\n",
    "            model.eval()\n",
    "            with torch.no_grad():    \n",
    "                test_pred = []\n",
    "                test_true = [] \n",
    "                for jdx,data in enumerate(testloader):\n",
    "                    test_data,test_labels = data\n",
    "                    test_data = test_data.cuda()\n",
    "                    y_pred = model(test_data)\n",
    "                    y_pred = torch.sigmoid(y_pred)\n",
    "                    test_pred.append(y_pred.cpu().detach().numpy())\n",
    "                    test_true.append(test_labels.numpy())\n",
    "            \n",
    "                test_true = np.concatenate(test_true)\n",
    "                test_pred = np.concatenate(test_pred)\n",
    "                val_auc_mean = np.mean(auc_roc_score(test_true,test_pred)) \n",
    "                model.train()\n",
    "\n",
    "                if best_val_auc < val_auc_mean:\n",
    "                    best_val_auc = val_auc_mean\n",
    "                    # torch.save(model.state_dict(),os.path.join(os.getcwd(),'pth_files','after40_model.pth'))\n",
    "                    torch.save(model.state_dict(),os.path.join(os.getcwd(),'pth_files','after40_model_densenet121.pth'))\n",
    "                after_time = datetime.now()\n",
    "                time_gap = after_time-begin_time\n",
    "                time_gap = time_gap.total_seconds()\n",
    "                hours,remainders = divmod(time_gap,3600)\n",
    "                minutes,seconds = divmod(remainders,60)\n",
    "                hours = int(hours)\n",
    "                minutes = int(minutes)\n",
    "                seconds = int(seconds)\n",
    "                print(f'({hours:02d}:{minutes:02d}:{seconds:02d})Epoch={epoch},BatchID={idx},Val_AUC={val_auc_mean:.4f},Best_Val_AUC={best_val_auc:.4f}')"
   ]
  },
  {
   "cell_type": "code",
   "execution_count": null,
   "metadata": {},
   "outputs": [],
   "source": []
  }
 ],
 "metadata": {
  "kernelspec": {
   "display_name": "Python 3 (ipykernel)",
   "language": "python",
   "name": "python3"
  },
  "language_info": {
   "codemirror_mode": {
    "name": "ipython",
    "version": 3
   },
   "file_extension": ".py",
   "mimetype": "text/x-python",
   "name": "python",
   "nbconvert_exporter": "python",
   "pygments_lexer": "ipython3",
   "version": "3.11.5"
  }
 },
 "nbformat": 4,
 "nbformat_minor": 4
}
